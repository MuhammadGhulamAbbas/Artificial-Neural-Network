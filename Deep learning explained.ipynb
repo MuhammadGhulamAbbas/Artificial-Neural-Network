{
 "cells": [
  {
   "cell_type": "markdown",
   "metadata": {},
   "source": [
    "# What Is Deep Learning?\n",
    "Deep learning is a sub-field of machine learning that uses algorithms inspired by the structure and function of the brain's neural networks.With deep learning, we're still talking about algorithms that learn from data just like we discussed in the last post on machine learning. However, now the algorithms or models that do this learning are based loosely on the structure and function of the brain's neural networks.\n",
    "\n",
    "The neural networks that we use in deep learning aren't actual biological neural networks though. They simply share some characteristics with biological neural networks, and for this reason, we call them artificial neural networks (ANNs).We often also use other terms to refer to ANNs. In the field of deep learning, the term artificial neural network (ANN) is used interchangeably with the following:\n",
    "\n",
    "1.net\n",
    "2.neural net\n",
    "3.model\n"
   ]
  },
  {
   "cell_type": "markdown",
   "metadata": {},
   "source": [
    "# What Does Deep Mean In Deep Learning?\n",
    "To understand the term deep in deep learning, we need to first understand how ANNs are structured. Once we know this, we will be able to see that deep learning uses a specific type of ANN that we call a deep net or deep artificial neural network.\n",
    "\n",
    "In the next post on artificial neural networks, we'll learn how ANNs are structured, and this will give us the knowledge we need to understand how an ANN becomes a deep ANN.\n",
    "\n",
    "For now, here is what you need to know:\n",
    "\n",
    "ANNs are built using what we call neurons.\n",
    "Neurons in an ANN are organized into what we call layers.\n",
    "Layers within an ANN (all but the input and output layers) are called hidden layers.\n",
    "If an ANN has more than one hidden layer, the ANN is said to be a deep ANN.In summary, deep learning uses ANNs that have multiple hidden layers. Keep this in mind as we move forward in this series, and it will become more clear as we continue our journey through deep learning."
   ]
  },
  {
   "cell_type": "markdown",
   "metadata": {},
   "source": [
    "# What Is An Artificial Neural Network?\n",
    "In the previous post, we defined deep learning as a sub-field of machine learning that uses algorithms inspired by the structure and function of the brain's neural networks. For this reason, the models used in deep learning are called artificial neural networks (ANNs).Let's give a definition for an artificial neural network.\n",
    "\n",
    "An artificial neural network is a computing system that is comprised of a collection of connected units called neurons that are organized into what we call layers.The connected neural units form the so-called network. Each connection between neurons transmits a signal from one neuron to the other. The receiving neuron processes the signal and signals to downstream neurons connected to it within the network. Note that neurons are also commonly referred to as nodes.Nodes are organized into what we call layers. At the highest level, there are three types of layers in every ANN:\n",
    "\n",
    "Input layer\n",
    "Hidden layers\n",
    "Output layer\n",
    "Different layers perform different kinds of transformations on their inputs. Data flows through the network starting at the input layer and moving through the hidden layers until the output layer is reached. This is known as a forward pass through the network. Layers positioned between the input and output layers are known as hidden layers.\n",
    "Let's consider the number of nodes contained in each type of layer:\n",
    "\n",
    "Input layer - One node for each component of the input data.\n",
    "Hidden layers - Arbitrarily chosen number of nodes for each hidden layer.\n",
    "Output layer - One node for each of the possible desired outputs.\n",
    "This ANN has three layers total. The layer on the left is the input layer. The layer on the right is the output layer, and the layer in the middle is the hidden layer. Remember that each layer is comprised of neurons or nodes. Here, the nodes are depicted with the circles, so let's consider how many nodes are in each layer of this network.\n",
    "\n",
    "Number of nodes in each layer:\n",
    "\n",
    "Input layer (left): 2 nodes\n",
    "Hidden layer (middle): 3 nodes\n",
    "Output layer (right): 2 nodes\n",
    "Since this network has two nodes in the input layer, this tells us that each input to this network must have two dimensions, like for example height and weight.\n",
    "\n",
    "Since this network has two nodes in the output layer, this tells us that there are two possible outputs for every input that is passed forward (left to right) through the network. For example, overweight or underweight could be the two output classes. Note that the output classes are also known as the prediction classes."
   ]
  },
  {
   "cell_type": "markdown",
   "metadata": {},
   "source": [
    "# Keras Sequential Model\n",
    "In Keras, we can build what is called a sequential model. Keras defines a sequential model as a sequential stack of linear layers. This is what we might expect as we have just learned that neurons are organized into layers.\n",
    "\n",
    "This sequential model is Keras' implementation of an artificial neural network. Let's see now how a very simple sequential model is built using Keras."
   ]
  },
  {
   "cell_type": "code",
   "execution_count": 5,
   "metadata": {},
   "outputs": [],
   "source": [
    "import tensorflow as tf\n",
    "from tensorflow import keras\n",
    "from keras.models import Sequential\n",
    "from keras.layers import Dense, Activation"
   ]
  },
  {
   "cell_type": "code",
   "execution_count": 6,
   "metadata": {},
   "outputs": [],
   "source": [
    "model = keras.Sequential()\n",
    "# Adds a densely-connected layer with 64 units to the model:\n",
    "model.add(keras.layers.Dense(64, activation='relu'))\n",
    "# Add another:\n",
    "model.add(keras.layers.Dense(64, activation='relu'))\n",
    "# Add a softmax layer with 10 output units:\n",
    "model.add(keras.layers.Dense(10, activation='softmax'))"
   ]
  },
  {
   "cell_type": "markdown",
   "metadata": {},
   "source": [
    "# Conclusion\n",
    "First we import the required Keras classes.\n",
    "Then, we create a variable called model, and we set it equal to an instance of a Sequential object.\n",
    "To the constructor, we pass an array of Dense objects. Each of these objects called Dense are actually layers.\n",
    "The word dense indicates that these layers are of type Dense. Dense is one particular type of layer, but there are many other types that we will see as we continue our deep learning journey.\n",
    "For now, just understand that dense is the most basic kind of layer in an ANN and that each output of a dense layer is computed using every input to the layer.The first parameter passed to the Dense layer constructor in each layer tells us how many neurons it should have.\n",
    "The input shape parameter input_shape=(2,) tells us how many neurons our input layer has, so in our case, we have two.\n",
    "Lastly, we have a parameter for a so-called activation function.\n",
    "activation='relu'\n",
    "activation='softmax'\n",
    "More on this in future posts. For now, just know that an activation function is a non-linear function that typically follows a dense layer.\n",
    "This gives us an example of a very basic model definition in Keras. For a more in depth look at Keras, be sure to check out the Keras series. For now, I hope you have an idea for what an ANN is and how you can build one using Keras. I hope you found this one helpful. See ya in the next one!\n",
    "\n",
    "\n"
   ]
  }
 ],
 "metadata": {
  "kernelspec": {
   "display_name": "Python 3",
   "language": "python",
   "name": "python3"
  },
  "language_info": {
   "codemirror_mode": {
    "name": "ipython",
    "version": 3
   },
   "file_extension": ".py",
   "mimetype": "text/x-python",
   "name": "python",
   "nbconvert_exporter": "python",
   "pygments_lexer": "ipython3",
   "version": "3.8.5"
  }
 },
 "nbformat": 4,
 "nbformat_minor": 4
}
