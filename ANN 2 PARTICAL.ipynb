{
 "cells": [
  {
   "cell_type": "code",
   "execution_count": 1,
   "metadata": {},
   "outputs": [],
   "source": [
    "# Importing the libraries\n",
    "import numpy as np\n",
    "import matplotlib.pyplot as plt\n",
    "import pandas as pd\n",
    "from sklearn.compose import ColumnTransformer"
   ]
  },
  {
   "cell_type": "code",
   "execution_count": 2,
   "metadata": {},
   "outputs": [],
   "source": [
    "dataset = pd.read_csv('Churn_Modelling.csv')\n",
    "X = dataset.iloc[:, 3:13].values\n",
    "y = dataset.iloc[:, 13].values"
   ]
  },
  {
   "cell_type": "code",
   "execution_count": 3,
   "metadata": {},
   "outputs": [],
   "source": [
    "\n",
    "# Encoding categorical data\n",
    "from sklearn.preprocessing import LabelEncoder, OneHotEncoder\n",
    "ct = ColumnTransformer([(\"Country\", OneHotEncoder(), [1])], remainder = 'passthrough')\n",
    "#X = ct.fit_transform(X)"
   ]
  },
  {
   "cell_type": "code",
   "execution_count": 4,
   "metadata": {},
   "outputs": [],
   "source": [
    "#labelencoder_X_1 = LabelEncoder()\n",
    "#X[:, 1] = labelencoder_X_1.fit_transform(X[:, 1])\n",
    "labelencoder_X_2 = LabelEncoder()\n",
    "X[:, 2] = labelencoder_X_2.fit_transform(X[:, 2])\n",
    "#onehotencoder = OneHotEncoder(categorical_features = [1])\n",
    "X = ct.fit_transform(X) #.toarray()\n",
    "X = X[:, 1:]\n"
   ]
  },
  {
   "cell_type": "code",
   "execution_count": 5,
   "metadata": {},
   "outputs": [],
   "source": [
    "\n",
    "# Splitting the dataset into the Training set and Test set\n",
    "from sklearn.model_selection import train_test_split\n",
    "X_train, X_test, y_train, y_test = train_test_split(X, y, test_size = 0.2, random_state = 0)\n",
    "\n",
    "# Feature Scaling\n",
    "from sklearn.preprocessing import StandardScaler\n",
    "sc = StandardScaler()\n",
    "X_train = sc.fit_transform(X_train)\n",
    "X_test = sc.transform(X_test)"
   ]
  },
  {
   "cell_type": "code",
   "execution_count": 6,
   "metadata": {},
   "outputs": [],
   "source": [
    "# Part 2 - Now let's make the ANN!\n",
    "\n",
    "# Importing the Keras libraries and packages\n",
    "import keras\n",
    "from keras.models import Sequential\n",
    "from keras.layers import Dense"
   ]
  },
  {
   "cell_type": "code",
   "execution_count": 7,
   "metadata": {},
   "outputs": [
    {
     "name": "stdout",
     "output_type": "stream",
     "text": [
      "Epoch 1/100\n",
      "800/800 [==============================] - 4s 2ms/step - loss: 0.5609 - accuracy: 0.7940\n",
      "Epoch 2/100\n",
      "800/800 [==============================] - 1s 881us/step - loss: 0.4257 - accuracy: 0.7963\n",
      "Epoch 3/100\n",
      "800/800 [==============================] - 1s 873us/step - loss: 0.4279 - accuracy: 0.7923\n",
      "Epoch 4/100\n",
      "800/800 [==============================] - 1s 868us/step - loss: 0.4275 - accuracy: 0.7960\n",
      "Epoch 5/100\n",
      "800/800 [==============================] - 1s 861us/step - loss: 0.4126 - accuracy: 0.8243\n",
      "Epoch 6/100\n",
      "800/800 [==============================] - 1s 885us/step - loss: 0.4062 - accuracy: 0.8286\n",
      "Epoch 7/100\n",
      "800/800 [==============================] - 1s 878us/step - loss: 0.4139 - accuracy: 0.8248\n",
      "Epoch 8/100\n",
      "800/800 [==============================] - 1s 880us/step - loss: 0.4155 - accuracy: 0.8320\n",
      "Epoch 9/100\n",
      "800/800 [==============================] - 1s 874us/step - loss: 0.4101 - accuracy: 0.8350\n",
      "Epoch 10/100\n",
      "800/800 [==============================] - 1s 864us/step - loss: 0.4032 - accuracy: 0.8393\n",
      "Epoch 11/100\n",
      "800/800 [==============================] - 1s 878us/step - loss: 0.4230 - accuracy: 0.8234\n",
      "Epoch 12/100\n",
      "800/800 [==============================] - 1s 881us/step - loss: 0.4100 - accuracy: 0.8348\n",
      "Epoch 13/100\n",
      "800/800 [==============================] - 1s 873us/step - loss: 0.4028 - accuracy: 0.8336\n",
      "Epoch 14/100\n",
      "800/800 [==============================] - 1s 881us/step - loss: 0.4128 - accuracy: 0.8293\n",
      "Epoch 15/100\n",
      "800/800 [==============================] - 1s 879us/step - loss: 0.3998 - accuracy: 0.8346\n",
      "Epoch 16/100\n",
      "800/800 [==============================] - 1s 870us/step - loss: 0.4055 - accuracy: 0.8363\n",
      "Epoch 17/100\n",
      "800/800 [==============================] - 1s 872us/step - loss: 0.4077 - accuracy: 0.8330\n",
      "Epoch 18/100\n",
      "800/800 [==============================] - 1s 875us/step - loss: 0.4130 - accuracy: 0.8295\n",
      "Epoch 19/100\n",
      "800/800 [==============================] - 1s 868us/step - loss: 0.4050 - accuracy: 0.8359\n",
      "Epoch 20/100\n",
      "800/800 [==============================] - 1s 875us/step - loss: 0.4018 - accuracy: 0.8355\n",
      "Epoch 21/100\n",
      "800/800 [==============================] - 1s 874us/step - loss: 0.4076 - accuracy: 0.8296\n",
      "Epoch 22/100\n",
      "800/800 [==============================] - 1s 881us/step - loss: 0.4051 - accuracy: 0.8350\n",
      "Epoch 23/100\n",
      "800/800 [==============================] - 1s 938us/step - loss: 0.4077 - accuracy: 0.8339\n",
      "Epoch 24/100\n",
      "800/800 [==============================] - 1s 883us/step - loss: 0.3922 - accuracy: 0.8416\n",
      "Epoch 25/100\n",
      "800/800 [==============================] - 1s 875us/step - loss: 0.3950 - accuracy: 0.8393\n",
      "Epoch 26/100\n",
      "800/800 [==============================] - 1s 874us/step - loss: 0.4154 - accuracy: 0.8254\n",
      "Epoch 27/100\n",
      "800/800 [==============================] - 1s 873us/step - loss: 0.3943 - accuracy: 0.8383\n",
      "Epoch 28/100\n",
      "800/800 [==============================] - 1s 920us/step - loss: 0.3917 - accuracy: 0.8434\n",
      "Epoch 29/100\n",
      "800/800 [==============================] - 1s 961us/step - loss: 0.3996 - accuracy: 0.8386\n",
      "Epoch 30/100\n",
      "800/800 [==============================] - 1s 1ms/step - loss: 0.3960 - accuracy: 0.8443\n",
      "Epoch 31/100\n",
      "800/800 [==============================] - 1s 961us/step - loss: 0.4063 - accuracy: 0.8362\n",
      "Epoch 32/100\n",
      "800/800 [==============================] - 1s 946us/step - loss: 0.4001 - accuracy: 0.8319\n",
      "Epoch 33/100\n",
      "800/800 [==============================] - 1s 981us/step - loss: 0.3984 - accuracy: 0.8372\n",
      "Epoch 34/100\n",
      "800/800 [==============================] - 1s 859us/step - loss: 0.3954 - accuracy: 0.8402\n",
      "Epoch 35/100\n",
      "800/800 [==============================] - 1s 833us/step - loss: 0.4027 - accuracy: 0.8379\n",
      "Epoch 36/100\n",
      "800/800 [==============================] - 1s 833us/step - loss: 0.4000 - accuracy: 0.8369\n",
      "Epoch 37/100\n",
      "800/800 [==============================] - 1s 828us/step - loss: 0.4006 - accuracy: 0.8347\n",
      "Epoch 38/100\n",
      "800/800 [==============================] - 1s 824us/step - loss: 0.3974 - accuracy: 0.8354\n",
      "Epoch 39/100\n",
      "800/800 [==============================] - 1s 923us/step - loss: 0.3987 - accuracy: 0.8407\n",
      "Epoch 40/100\n",
      "800/800 [==============================] - 1s 865us/step - loss: 0.3989 - accuracy: 0.8407\n",
      "Epoch 41/100\n",
      "800/800 [==============================] - 1s 825us/step - loss: 0.3988 - accuracy: 0.8338\n",
      "Epoch 42/100\n",
      "800/800 [==============================] - 1s 801us/step - loss: 0.3981 - accuracy: 0.8372\n",
      "Epoch 43/100\n",
      "800/800 [==============================] - 1s 816us/step - loss: 0.4104 - accuracy: 0.8321\n",
      "Epoch 44/100\n",
      "800/800 [==============================] - 1s 803us/step - loss: 0.4030 - accuracy: 0.8352\n",
      "Epoch 45/100\n",
      "800/800 [==============================] - 1s 879us/step - loss: 0.3936 - accuracy: 0.8421\n",
      "Epoch 46/100\n",
      "800/800 [==============================] - 1s 973us/step - loss: 0.4062 - accuracy: 0.8287\n",
      "Epoch 47/100\n",
      "800/800 [==============================] - 1s 998us/step - loss: 0.4034 - accuracy: 0.8365\n",
      "Epoch 48/100\n",
      "800/800 [==============================] - 1s 1ms/step - loss: 0.4037 - accuracy: 0.8362\n",
      "Epoch 49/100\n",
      "800/800 [==============================] - 1s 908us/step - loss: 0.4000 - accuracy: 0.8382\n",
      "Epoch 50/100\n",
      "800/800 [==============================] - 1s 948us/step - loss: 0.3947 - accuracy: 0.8360\n",
      "Epoch 51/100\n",
      "800/800 [==============================] - 1s 1ms/step - loss: 0.4016 - accuracy: 0.8313\n",
      "Epoch 52/100\n",
      "800/800 [==============================] - 1s 914us/step - loss: 0.4079 - accuracy: 0.8307\n",
      "Epoch 53/100\n",
      "800/800 [==============================] - 1s 836us/step - loss: 0.4119 - accuracy: 0.8263\n",
      "Epoch 54/100\n",
      "800/800 [==============================] - 1s 880us/step - loss: 0.3837 - accuracy: 0.8450\n",
      "Epoch 55/100\n",
      "800/800 [==============================] - 1s 813us/step - loss: 0.4009 - accuracy: 0.8401\n",
      "Epoch 56/100\n",
      "800/800 [==============================] - 1s 805us/step - loss: 0.3908 - accuracy: 0.8403\n",
      "Epoch 57/100\n",
      "800/800 [==============================] - 1s 824us/step - loss: 0.4036 - accuracy: 0.8304\n",
      "Epoch 58/100\n",
      "800/800 [==============================] - 1s 783us/step - loss: 0.4005 - accuracy: 0.8347\n",
      "Epoch 59/100\n",
      "800/800 [==============================] - 1s 997us/step - loss: 0.4099 - accuracy: 0.8320\n",
      "Epoch 60/100\n",
      "800/800 [==============================] - 1s 1ms/step - loss: 0.3989 - accuracy: 0.8372\n",
      "Epoch 61/100\n",
      "800/800 [==============================] - 1s 1ms/step - loss: 0.4000 - accuracy: 0.8341\n",
      "Epoch 62/100\n",
      "800/800 [==============================] - 1s 1ms/step - loss: 0.3963 - accuracy: 0.8335\n",
      "Epoch 63/100\n",
      "800/800 [==============================] - 1s 1ms/step - loss: 0.3985 - accuracy: 0.8349\n",
      "Epoch 64/100\n",
      "800/800 [==============================] - 1s 1ms/step - loss: 0.4160 - accuracy: 0.8264\n",
      "Epoch 65/100\n",
      "800/800 [==============================] - 1s 1ms/step - loss: 0.3995 - accuracy: 0.8362\n",
      "Epoch 66/100\n",
      "800/800 [==============================] - 1s 1ms/step - loss: 0.3986 - accuracy: 0.8358\n",
      "Epoch 67/100\n",
      "800/800 [==============================] - 1s 1ms/step - loss: 0.3887 - accuracy: 0.8416\n",
      "Epoch 68/100\n",
      "800/800 [==============================] - 1s 1ms/step - loss: 0.4019 - accuracy: 0.8370\n",
      "Epoch 69/100\n",
      "800/800 [==============================] - 1s 967us/step - loss: 0.3913 - accuracy: 0.8399\n",
      "Epoch 70/100\n",
      "800/800 [==============================] - 1s 946us/step - loss: 0.3891 - accuracy: 0.8431\n",
      "Epoch 71/100\n",
      "800/800 [==============================] - 1s 891us/step - loss: 0.4112 - accuracy: 0.8326\n",
      "Epoch 72/100\n",
      "800/800 [==============================] - 1s 1ms/step - loss: 0.4008 - accuracy: 0.8316\n",
      "Epoch 73/100\n",
      "800/800 [==============================] - 1s 932us/step - loss: 0.3921 - accuracy: 0.8387\n",
      "Epoch 74/100\n",
      "800/800 [==============================] - 1s 1ms/step - loss: 0.3973 - accuracy: 0.8337\n",
      "Epoch 75/100\n",
      "800/800 [==============================] - 1s 880us/step - loss: 0.3852 - accuracy: 0.8458\n",
      "Epoch 76/100\n",
      "800/800 [==============================] - 1s 904us/step - loss: 0.4053 - accuracy: 0.8327\n",
      "Epoch 77/100\n",
      "800/800 [==============================] - 1s 909us/step - loss: 0.3932 - accuracy: 0.8413\n",
      "Epoch 78/100\n",
      "800/800 [==============================] - 1s 1ms/step - loss: 0.3885 - accuracy: 0.8420\n",
      "Epoch 79/100\n",
      "800/800 [==============================] - 1s 999us/step - loss: 0.3932 - accuracy: 0.8401\n",
      "Epoch 80/100\n",
      "800/800 [==============================] - 1s 898us/step - loss: 0.4044 - accuracy: 0.8319\n",
      "Epoch 81/100\n",
      "800/800 [==============================] - 1s 977us/step - loss: 0.3879 - accuracy: 0.8403\n",
      "Epoch 82/100\n",
      "800/800 [==============================] - 1s 883us/step - loss: 0.4133 - accuracy: 0.8281\n",
      "Epoch 83/100\n",
      "800/800 [==============================] - 1s 874us/step - loss: 0.4055 - accuracy: 0.8360\n",
      "Epoch 84/100\n",
      "800/800 [==============================] - 1s 1ms/step - loss: 0.3976 - accuracy: 0.8383\n",
      "Epoch 85/100\n",
      "800/800 [==============================] - 1s 890us/step - loss: 0.4102 - accuracy: 0.8303\n",
      "Epoch 86/100\n",
      "800/800 [==============================] - 1s 972us/step - loss: 0.4021 - accuracy: 0.8356\n",
      "Epoch 87/100\n",
      "800/800 [==============================] - 1s 939us/step - loss: 0.4005 - accuracy: 0.8378\n",
      "Epoch 88/100\n",
      "800/800 [==============================] - 1s 924us/step - loss: 0.4025 - accuracy: 0.8321\n",
      "Epoch 89/100\n",
      "800/800 [==============================] - 1s 944us/step - loss: 0.4093 - accuracy: 0.8276\n",
      "Epoch 90/100\n",
      "800/800 [==============================] - 1s 949us/step - loss: 0.3893 - accuracy: 0.8403\n",
      "Epoch 91/100\n",
      "800/800 [==============================] - 1s 982us/step - loss: 0.3996 - accuracy: 0.8361\n",
      "Epoch 92/100\n",
      "800/800 [==============================] - 1s 915us/step - loss: 0.3998 - accuracy: 0.8371\n",
      "Epoch 93/100\n",
      "800/800 [==============================] - 1s 999us/step - loss: 0.3978 - accuracy: 0.8367\n",
      "Epoch 94/100\n",
      "800/800 [==============================] - 1s 890us/step - loss: 0.3946 - accuracy: 0.8405\n",
      "Epoch 95/100\n",
      "800/800 [==============================] - 1s 1ms/step - loss: 0.4016 - accuracy: 0.8353\n",
      "Epoch 96/100\n",
      "800/800 [==============================] - 1s 888us/step - loss: 0.3980 - accuracy: 0.8380\n",
      "Epoch 97/100\n",
      "800/800 [==============================] - 1s 1ms/step - loss: 0.4081 - accuracy: 0.8290\n",
      "Epoch 98/100\n",
      "800/800 [==============================] - 1s 890us/step - loss: 0.3983 - accuracy: 0.8366\n",
      "Epoch 99/100\n",
      "800/800 [==============================] - 1s 994us/step - loss: 0.3965 - accuracy: 0.8367\n",
      "Epoch 100/100\n",
      "800/800 [==============================] - 1s 889us/step - loss: 0.4020 - accuracy: 0.8294\n"
     ]
    },
    {
     "data": {
      "text/plain": [
       "<tensorflow.python.keras.callbacks.History at 0x17315e95fa0>"
      ]
     },
     "execution_count": 7,
     "metadata": {},
     "output_type": "execute_result"
    }
   ],
   "source": [
    "# Initialising the ANN\n",
    "classifier = Sequential()\n",
    "\n",
    "# Adding the input layer and the first hidden layer\n",
    "classifier.add(Dense(6, kernel_initializer = 'uniform', activation = 'relu', input_dim = 11))\n",
    "\n",
    "# Adding the second hidden layer\n",
    "classifier.add(Dense(6, kernel_initializer = 'uniform', activation = 'relu'))\n",
    "\n",
    "# Adding the output layer\n",
    "classifier.add(Dense(1, kernel_initializer = 'uniform', activation = 'sigmoid'))\n",
    "\n",
    "# Compiling the ANN\n",
    "classifier.compile(optimizer = 'adam', loss = 'binary_crossentropy', metrics = ['accuracy'])\n",
    "\n",
    "# Fitting the ANN to the Training set\n",
    "classifier.fit(X_train, y_train, batch_size = 10, epochs = 100)"
   ]
  },
  {
   "cell_type": "code",
   "execution_count": 8,
   "metadata": {},
   "outputs": [],
   "source": [
    "# Part 3 - Making the predictions and evaluating the model\n",
    "\n",
    "# Predicting the Test set results\n",
    "y_pred = classifier.predict(X_test)\n",
    "y_pred = (y_pred > 0.5)\n",
    "\n",
    "# Making the Confusion Matrix\n",
    "from sklearn.metrics import confusion_matrix\n",
    "cm = confusion_matrix(y_test, y_pred)"
   ]
  },
  {
   "cell_type": "code",
   "execution_count": 9,
   "metadata": {},
   "outputs": [
    {
     "data": {
      "text/plain": [
       "array([[False],\n",
       "       [False],\n",
       "       [False],\n",
       "       ...,\n",
       "       [False],\n",
       "       [False],\n",
       "       [False]])"
      ]
     },
     "execution_count": 9,
     "metadata": {},
     "output_type": "execute_result"
    }
   ],
   "source": [
    "y_pred\n"
   ]
  },
  {
   "cell_type": "code",
   "execution_count": 10,
   "metadata": {},
   "outputs": [
    {
     "data": {
      "text/plain": [
       "array([[1548,   47],\n",
       "       [ 271,  134]], dtype=int64)"
      ]
     },
     "execution_count": 10,
     "metadata": {},
     "output_type": "execute_result"
    }
   ],
   "source": [
    "cm"
   ]
  },
  {
   "cell_type": "code",
   "execution_count": 15,
   "metadata": {},
   "outputs": [
    {
     "name": "stdout",
     "output_type": "stream",
     "text": [
      "              precision    recall  f1-score   support\n",
      "\n",
      "           0       0.85      0.97      0.91      1595\n",
      "           1       0.74      0.33      0.46       405\n",
      "\n",
      "    accuracy                           0.84      2000\n",
      "   macro avg       0.80      0.65      0.68      2000\n",
      "weighted avg       0.83      0.84      0.82      2000\n",
      "\n",
      "[[1548   47]\n",
      " [ 271  134]]\n",
      "\n",
      "accuracy is 0.841\n"
     ]
    }
   ],
   "source": [
    "from sklearn.metrics import classification_report\n",
    "from sklearn.metrics import confusion_matrix\n",
    "from sklearn.metrics import accuracy_score\n",
    "\n",
    "# Summary of the predictions made by the classifier\n",
    "print(classification_report(y_test, y_pred))\n",
    "print(confusion_matrix(y_test, y_pred))\n",
    "print()\n",
    "# Accuracy score\n",
    "print('accuracy is',accuracy_score(y_pred,y_test))\n",
    "\n"
   ]
  },
  {
   "cell_type": "code",
   "execution_count": null,
   "metadata": {},
   "outputs": [],
   "source": []
  }
 ],
 "metadata": {
  "kernelspec": {
   "display_name": "Python 3",
   "language": "python",
   "name": "python3"
  },
  "language_info": {
   "codemirror_mode": {
    "name": "ipython",
    "version": 3
   },
   "file_extension": ".py",
   "mimetype": "text/x-python",
   "name": "python",
   "nbconvert_exporter": "python",
   "pygments_lexer": "ipython3",
   "version": "3.8.5"
  }
 },
 "nbformat": 4,
 "nbformat_minor": 4
}
